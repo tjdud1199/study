{
 "cells": [
  {
   "cell_type": "code",
   "execution_count": 4,
   "metadata": {},
   "outputs": [
    {
     "data": {
      "text/plain": [
       "['XXX', '', 'XXXX', '', '', '', '', 'XX']"
      ]
     },
     "execution_count": 4,
     "metadata": {},
     "output_type": "execute_result"
    }
   ],
   "source": [
    "s = 'XXX..XXXX.....XX'\n",
    "s = s.split('.')\n",
    "s"
   ]
  },
  {
   "cell_type": "code",
   "execution_count": 10,
   "metadata": {},
   "outputs": [
    {
     "name": "stdout",
     "output_type": "stream",
     "text": [
      "2\n",
      "15\n",
      "10\n",
      "[10, 15]\n",
      "30\n"
     ]
    }
   ],
   "source": [
    "n = int(input())\n",
    "ropes=[]\n",
    "for _ in range(n):\n",
    "    x = int(input())\n",
    "    ropes.append(x)\n",
    "ropes.sort(reverse=True)\n",
    "print(ropes)\n",
    "result = 0\n",
    "num = 0\n",
    "\n",
    "for rope in ropes:\n",
    "    new = max(result, rope*(num+1))\n",
    "    if new != result:\n",
    "        num += 1\n",
    "    result = new\n",
    "\n",
    "print(result)"
   ]
  },
  {
   "cell_type": "code",
   "execution_count": 13,
   "metadata": {},
   "outputs": [
    {
     "name": "stdout",
     "output_type": "stream",
     "text": [
      "2\n",
      "10\n",
      "15\n",
      "20\n"
     ]
    }
   ],
   "source": [
    "# 각각의 로프에 대해 자기가 포함되었을 때 들 수 있는 최대 용량을 새로 저장한다.\n",
    "n = int(input())\n",
    "ropes=[]\n",
    "for _ in range(n):\n",
    "    x = int(input())\n",
    "    ropes.append(x)\n",
    "ropes.sort(reverse=True)\n",
    "result = []\n",
    "num = 1\n",
    "\n",
    "for rope in ropes:\n",
    "    result.append(rope*num)\n",
    "    num += 1\n",
    "    \n",
    "print(max(result))"
   ]
  },
  {
   "cell_type": "code",
   "execution_count": 4,
   "metadata": {},
   "outputs": [
    {
     "name": "stdout",
     "output_type": "stream",
     "text": [
      "3 5 1 6\n",
      "2 6 7 1\n",
      "5 7 2 5\n",
      "['5', '7', '2', '5']\n"
     ]
    }
   ],
   "source": [
    "for _ in range(3):\n",
    "    length = input().split()\n",
    "    \n",
    "print(length)"
   ]
  },
  {
   "cell_type": "code",
   "execution_count": 5,
   "metadata": {},
   "outputs": [
    {
     "name": "stdout",
     "output_type": "stream",
     "text": [
      "4\n",
      "2 3 1\n",
      "5 2 4 1\n",
      "552224\n"
     ]
    }
   ],
   "source": [
    "n = int(input())\n",
    "road = ''\n",
    "length = input().split()\n",
    "cost = input().split()\n",
    "\n",
    "# 도로 만들기\n",
    "for i in range(len(length)):\n",
    "    road += cost[i]*int(length[i])\n",
    "\n",
    "print(road)"
   ]
  },
  {
   "cell_type": "code",
   "execution_count": 10,
   "metadata": {},
   "outputs": [
    {
     "name": "stdout",
     "output_type": "stream",
     "text": [
      "4\n",
      "2 3 1\n",
      "5 2 4 1\n",
      "18\n"
     ]
    }
   ],
   "source": [
    "n = int(input())\n",
    "road = ''\n",
    "length = input().split()\n",
    "cost = input().split()\n",
    "\n",
    "# 도로 만들기\n",
    "for i in range(len(length)):\n",
    "    road += cost[i]*int(length[i])\n",
    "    \n",
    "road = [int(i) for i in road]\n",
    "\n",
    "for i in range(1,len(road)-1):\n",
    "    if road[i] < road[i+1]:\n",
    "        road[i+1] = road[i]\n",
    "\n",
    "\n",
    "print(sum(road))"
   ]
  },
  {
   "cell_type": "code",
   "execution_count": 16,
   "metadata": {},
   "outputs": [
    {
     "name": "stdout",
     "output_type": "stream",
     "text": [
      "4\n",
      "2 3 1\n",
      "5 2 4 1\n",
      "18\n"
     ]
    }
   ],
   "source": [
    "n = int(input())\n",
    "roads = list(map(int, input().split()))\n",
    "costs = list(map(int, input().split()))\n",
    "\n",
    "total = roads[0] * costs[0]\n",
    "min_cost = costs[0]\n",
    "dist = 0\n",
    "\n",
    "for i in range(1, n-1):\n",
    "    if costs[i] < min_cost:\n",
    "        total += min_cost * dist\n",
    "        min_cost = costs[i]\n",
    "        dist = roads[i]\n",
    "    else:\n",
    "        dist += roads[i]\n",
    "\n",
    "    if i == n-2:\n",
    "        total += min_cost * dist\n",
    "\n",
    "print(total)"
   ]
  },
  {
   "cell_type": "code",
   "execution_count": 14,
   "metadata": {},
   "outputs": [
    {
     "data": {
      "text/plain": [
       "int"
      ]
     },
     "execution_count": 14,
     "metadata": {},
     "output_type": "execute_result"
    }
   ],
   "source": [
    "type(roads[2])"
   ]
  },
  {
   "cell_type": "code",
   "execution_count": 22,
   "metadata": {},
   "outputs": [
    {
     "name": "stdout",
     "output_type": "stream",
     "text": [
      "3\n",
      "1\n",
      "2\n",
      "3\n",
      "4\n"
     ]
    }
   ],
   "source": [
    "n = int(input())\n",
    "line = []\n",
    "idx = 0\n",
    "result = 0\n",
    "\n",
    "for _ in range(n):\n",
    "    line.append(int(input()))\n",
    "line.sort(reverse=True)\n",
    "\n",
    "for tip in line:\n",
    "    tip -= idx\n",
    "    if tip < 0:\n",
    "        continue\n",
    "    result += tip\n",
    "    idx += 1\n",
    "\n",
    "print(result)"
   ]
  },
  {
   "cell_type": "markdown",
   "metadata": {},
   "source": [
    "### "
   ]
  },
  {
   "cell_type": "code",
   "execution_count": 3,
   "metadata": {},
   "outputs": [
    {
     "ename": "ValueError",
     "evalue": "not enough values to unpack (expected 3, got 0)",
     "output_type": "error",
     "traceback": [
      "\u001b[1;31m---------------------------------------------------------------------------\u001b[0m",
      "\u001b[1;31mValueError\u001b[0m                                Traceback (most recent call last)",
      "\u001b[1;32m<ipython-input-3-d9434e21bee2>\u001b[0m in \u001b[0;36m<module>\u001b[1;34m\u001b[0m\n\u001b[0;32m      2\u001b[0m \u001b[1;31m# input = sys.stdin.readline\u001b[0m\u001b[1;33m\u001b[0m\u001b[1;33m\u001b[0m\u001b[1;33m\u001b[0m\u001b[0m\n\u001b[0;32m      3\u001b[0m \u001b[1;33m\u001b[0m\u001b[0m\n\u001b[1;32m----> 4\u001b[1;33m \u001b[0mn\u001b[0m\u001b[1;33m,\u001b[0m \u001b[0mm\u001b[0m\u001b[1;33m,\u001b[0m \u001b[0mv\u001b[0m \u001b[1;33m=\u001b[0m \u001b[0mmap\u001b[0m\u001b[1;33m(\u001b[0m\u001b[0mint\u001b[0m\u001b[1;33m,\u001b[0m \u001b[0minput\u001b[0m\u001b[1;33m(\u001b[0m\u001b[1;33m)\u001b[0m\u001b[1;33m.\u001b[0m\u001b[0msplit\u001b[0m\u001b[1;33m(\u001b[0m\u001b[1;33m)\u001b[0m\u001b[1;33m)\u001b[0m\u001b[1;33m\u001b[0m\u001b[1;33m\u001b[0m\u001b[0m\n\u001b[0m\u001b[0;32m      5\u001b[0m \u001b[0mgraph\u001b[0m \u001b[1;33m=\u001b[0m \u001b[1;33m[\u001b[0m\u001b[1;33m[\u001b[0m\u001b[1;33m]\u001b[0m \u001b[1;32mfor\u001b[0m \u001b[0mi\u001b[0m \u001b[1;32min\u001b[0m \u001b[0mrange\u001b[0m\u001b[1;33m(\u001b[0m\u001b[0mn\u001b[0m\u001b[1;33m+\u001b[0m\u001b[1;36m1\u001b[0m\u001b[1;33m)\u001b[0m\u001b[1;33m]\u001b[0m\u001b[1;33m\u001b[0m\u001b[1;33m\u001b[0m\u001b[0m\n\u001b[0;32m      6\u001b[0m \u001b[1;33m\u001b[0m\u001b[0m\n",
      "\u001b[1;31mValueError\u001b[0m: not enough values to unpack (expected 3, got 0)"
     ]
    }
   ],
   "source": [
    "# import sys\n",
    "# input = sys.stdin.readline\n",
    "\n",
    "n, m, v = map(int, input().split())\n",
    "graph = [[] for i in range(n+1)]\n",
    "\n",
    "for _ in range(m):\n",
    "    a, b = map(int, input().split())\n",
    "    graph[a].append(b)\n",
    "    graph[b].append(a)\n",
    "\n",
    "for line in graph:\n",
    "    line.sort()\n",
    "\n",
    "visited = [v]\n",
    "def dfs(v, graph):\n",
    "    for i in graph[v]:\n",
    "        if i not in visited:\n",
    "            visited.append(i)\n",
    "            dfs(i, graph)\n",
    "\n",
    "dfs(v, graph)\n",
    "print(visited)\n",
    "\n",
    "visited = [v]\n",
    "queue = [v]\n",
    "while queue:\n",
    "    for i in graph[queue.pop()]:\n",
    "        if i not in visited:\n",
    "            visited.append(i)\n",
    "            queue.append(i)\n",
    "print(visited)"
   ]
  },
  {
   "cell_type": "code",
   "execution_count": null,
   "metadata": {},
   "outputs": [],
   "source": []
  },
  {
   "cell_type": "code",
   "execution_count": null,
   "metadata": {},
   "outputs": [],
   "source": []
  }
 ],
 "metadata": {
  "kernelspec": {
   "display_name": "Python 3",
   "language": "python",
   "name": "python3"
  },
  "language_info": {
   "codemirror_mode": {
    "name": "ipython",
    "version": 3
   },
   "file_extension": ".py",
   "mimetype": "text/x-python",
   "name": "python",
   "nbconvert_exporter": "python",
   "pygments_lexer": "ipython3",
   "version": "3.8.3"
  },
  "toc": {
   "base_numbering": 1,
   "nav_menu": {},
   "number_sections": true,
   "sideBar": true,
   "skip_h1_title": false,
   "title_cell": "Table of Contents",
   "title_sidebar": "Contents",
   "toc_cell": false,
   "toc_position": {},
   "toc_section_display": true,
   "toc_window_display": false
  }
 },
 "nbformat": 4,
 "nbformat_minor": 4
}
