{
 "cells": [
  {
   "cell_type": "code",
   "execution_count": 4,
   "metadata": {},
   "outputs": [
    {
     "data": {
      "text/plain": [
       "['XXX', '', 'XXXX', '', '', '', '', 'XX']"
      ]
     },
     "execution_count": 4,
     "metadata": {},
     "output_type": "execute_result"
    }
   ],
   "source": [
    "s = 'XXX..XXXX.....XX'\n",
    "s = s.split('.')\n",
    "s"
   ]
  },
  {
   "cell_type": "code",
   "execution_count": 10,
   "metadata": {},
   "outputs": [
    {
     "name": "stdout",
     "output_type": "stream",
     "text": [
      "2\n",
      "15\n",
      "10\n",
      "[10, 15]\n",
      "30\n"
     ]
    }
   ],
   "source": [
    "n = int(input())\n",
    "ropes=[]\n",
    "for _ in range(n):\n",
    "    x = int(input())\n",
    "    ropes.append(x)\n",
    "ropes.sort(reverse=True)\n",
    "print(ropes)\n",
    "result = 0\n",
    "num = 0\n",
    "\n",
    "for rope in ropes:\n",
    "    new = max(result, rope*(num+1))\n",
    "    if new != result:\n",
    "        num += 1\n",
    "    result = new\n",
    "\n",
    "print(result)"
   ]
  },
  {
   "cell_type": "code",
   "execution_count": 13,
   "metadata": {},
   "outputs": [
    {
     "name": "stdout",
     "output_type": "stream",
     "text": [
      "2\n",
      "10\n",
      "15\n",
      "20\n"
     ]
    }
   ],
   "source": [
    "# 각각의 로프에 대해 자기가 포함되었을 때 들 수 있는 최대 용량을 새로 저장한다.\n",
    "n = int(input())\n",
    "ropes=[]\n",
    "for _ in range(n):\n",
    "    x = int(input())\n",
    "    ropes.append(x)\n",
    "ropes.sort(reverse=True)\n",
    "result = []\n",
    "num = 1\n",
    "\n",
    "for rope in ropes:\n",
    "    result.append(rope*num)\n",
    "    num += 1\n",
    "    \n",
    "print(max(result))"
   ]
  },
  {
   "cell_type": "code",
   "execution_count": null,
   "metadata": {},
   "outputs": [],
   "source": []
  }
 ],
 "metadata": {
  "kernelspec": {
   "display_name": "Python 3",
   "language": "python",
   "name": "python3"
  },
  "toc": {
   "base_numbering": 1,
   "nav_menu": {},
   "number_sections": true,
   "sideBar": true,
   "skip_h1_title": false,
   "title_cell": "Table of Contents",
   "title_sidebar": "Contents",
   "toc_cell": false,
   "toc_position": {},
   "toc_section_display": true,
   "toc_window_display": false
  }
 },
 "nbformat": 4,
 "nbformat_minor": 4
}
