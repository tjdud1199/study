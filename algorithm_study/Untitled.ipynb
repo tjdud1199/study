{
 "cells": [
  {
   "cell_type": "code",
   "execution_count": 3,
   "metadata": {},
   "outputs": [
    {
     "name": "stdout",
     "output_type": "stream",
     "text": [
      "8\n",
      "sbrus.txt\n",
      "spc.spc\n",
      "acm.icpc\n",
      "korea.icpc\n",
      "sample.txt\n",
      "hello.world\n",
      "sogang.spc\n",
      "example.txt\n",
      "['icpc', 'spc', 'txt', 'world']\n"
     ]
    }
   ],
   "source": [
    "# import sys\n",
    "# input = sys.stdin.readline\n",
    "\n",
    "n = int(input())\n",
    "names = []\n",
    "for _ in range(n):\n",
    "    a, b = map(str, input().split('.'))\n",
    "    names.append(b)\n",
    "\n",
    "uniq_names = list(set(names))\n",
    "uniq_names.sort()\n",
    "print(uniq_names)"
   ]
  },
  {
   "cell_type": "code",
   "execution_count": 7,
   "metadata": {},
   "outputs": [
    {
     "data": {
      "text/plain": [
       "''"
      ]
     },
     "execution_count": 7,
     "metadata": {},
     "output_type": "execute_result"
    }
   ],
   "source": [
    "input()"
   ]
  },
  {
   "cell_type": "code",
   "execution_count": 7,
   "metadata": {},
   "outputs": [
    {
     "name": "stdout",
     "output_type": "stream",
     "text": [
      "<ab cd>ef gh<ij kl>\n",
      "<ab cd>fe hg<ij kl>\n"
     ]
    }
   ],
   "source": [
    "S = input()\n",
    "word = ''\n",
    "result = ''\n",
    "tag = False\n",
    "\n",
    "for i in range(len(S)):\n",
    "    if S[i] == '<':\n",
    "        result += word[::-1]\n",
    "        word = ''\n",
    "        tag = True\n",
    "        word += '<'\n",
    "    elif S[i] == '>':\n",
    "        result += word + '>'\n",
    "        word = ''\n",
    "        tag = False\n",
    "    elif S[i] == ' ' and tag == False:\n",
    "        word = word[::-1]\n",
    "        result += word + ' '\n",
    "        word = ''\n",
    "    elif S[i] == ' ' and tag == True:\n",
    "        word += S[i]\n",
    "    elif i == len(S) - 1:\n",
    "        word += S[i]\n",
    "        word = word[::-1]\n",
    "        result += word\n",
    "    else:\n",
    "        word += S[i]\n",
    "\n",
    "print(result)"
   ]
  },
  {
   "cell_type": "code",
   "execution_count": 1,
   "metadata": {},
   "outputs": [
    {
     "name": "stdout",
     "output_type": "stream",
     "text": [
      "ㅋ흏\n",
      "X\n",
      "AAB\n",
      "AABA\n",
      "AABB\n",
      "BCBABCC\n",
      "*\n",
      "['ㅋ흏', 'X', 'AAB', 'AABA', 'AABB', 'BCBABCC']\n"
     ]
    }
   ],
   "source": [
    "words = [input()]\n",
    "\n",
    "while words[-1] != '*':\n",
    "    words.append(input())\n",
    "\n",
    "words = words[:-1]\n",
    "print(words)"
   ]
  },
  {
   "cell_type": "code",
   "execution_count": null,
   "metadata": {},
   "outputs": [],
   "source": [
    "# import sys\n",
    "# input = sys.stdin.readline\n",
    "\n",
    "while True:\n",
    "    s = input().rstrip()\n",
    "    if s == '*':\n",
    "        break\n",
    "\n",
    "    for d in range(1, len(s)):\n",
    "        check = set()\n",
    "        for i in range(len(s)-d):\n",
    "            pair = s[i] + s[i+d]\n",
    "            if pair in check:\n",
    "                print(s, 'is NOT surprising.')\n",
    "                break\n",
    "            else:\n",
    "                check.add(pair)\n",
    "        else:\n",
    "            continue\n",
    "        break\n",
    "    else:\n",
    "        print(s, 'is surprising.')"
   ]
  },
  {
   "cell_type": "code",
   "execution_count": null,
   "metadata": {},
   "outputs": [],
   "source": [
    "import sys\n",
    "input = sys.stdin.readline\n",
    "\n",
    "while True:\n",
    "    s = input().rstrip()\n",
    "    if s == \"*\":\n",
    "        break\n",
    "    \n",
    "    for d in range(1,len(s)-1):\n",
    "        check = set()\n",
    "        for i in range(len(s)-d):\n",
    "            pairs = s[i]+s[i+d]\n",
    "            if pairs in check:\n",
    "                print(s,\"is NOT surprising.\")\n",
    "                break\n",
    "            else:\n",
    "                check.add(pairs)\n",
    "        else:\n",
    "            continue\n",
    "        break\n",
    "    else:\n",
    "        print(s,\"is surprising.\")"
   ]
  }
 ],
 "metadata": {
  "kernelspec": {
   "display_name": "Python 3",
   "language": "python",
   "name": "python3"
  },
  "language_info": {
   "codemirror_mode": {
    "name": "ipython",
    "version": 3
   },
   "file_extension": ".py",
   "mimetype": "text/x-python",
   "name": "python",
   "nbconvert_exporter": "python",
   "pygments_lexer": "ipython3",
   "version": "3.8.3"
  },
  "toc": {
   "base_numbering": 1,
   "nav_menu": {},
   "number_sections": true,
   "sideBar": true,
   "skip_h1_title": false,
   "title_cell": "Table of Contents",
   "title_sidebar": "Contents",
   "toc_cell": false,
   "toc_position": {},
   "toc_section_display": true,
   "toc_window_display": false
  }
 },
 "nbformat": 4,
 "nbformat_minor": 4
}
