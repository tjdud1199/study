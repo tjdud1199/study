{
 "cells": [
  {
   "cell_type": "code",
   "execution_count": 3,
   "metadata": {},
   "outputs": [
    {
     "name": "stdout",
     "output_type": "stream",
     "text": [
      "8\n",
      "sbrus.txt\n",
      "spc.spc\n",
      "acm.icpc\n",
      "korea.icpc\n",
      "sample.txt\n",
      "hello.world\n",
      "sogang.spc\n",
      "example.txt\n",
      "['icpc', 'spc', 'txt', 'world']\n"
     ]
    }
   ],
   "source": [
    "# import sys\n",
    "# input = sys.stdin.readline\n",
    "\n",
    "n = int(input())\n",
    "names = []\n",
    "for _ in range(n):\n",
    "    a, b = map(str, input().split('.'))\n",
    "    names.append(b)\n",
    "\n",
    "uniq_names = list(set(names))\n",
    "uniq_names.sort()\n",
    "print(uniq_names)"
   ]
  },
  {
   "cell_type": "code",
   "execution_count": 7,
   "metadata": {},
   "outputs": [
    {
     "data": {
      "text/plain": [
       "''"
      ]
     },
     "execution_count": 7,
     "metadata": {},
     "output_type": "execute_result"
    }
   ],
   "source": [
    "input()"
   ]
  },
  {
   "cell_type": "code",
   "execution_count": 7,
   "metadata": {},
   "outputs": [
    {
     "name": "stdout",
     "output_type": "stream",
     "text": [
      "<ab cd>ef gh<ij kl>\n",
      "<ab cd>fe hg<ij kl>\n"
     ]
    }
   ],
   "source": [
    "S = input()\n",
    "word = ''\n",
    "result = ''\n",
    "tag = False\n",
    "\n",
    "for i in range(len(S)):\n",
    "    if S[i] == '<':\n",
    "        result += word[::-1]\n",
    "        word = ''\n",
    "        tag = True\n",
    "        word += '<'\n",
    "    elif S[i] == '>':\n",
    "        result += word + '>'\n",
    "        word = ''\n",
    "        tag = False\n",
    "    elif S[i] == ' ' and tag == False:\n",
    "        word = word[::-1]\n",
    "        result += word + ' '\n",
    "        word = ''\n",
    "    elif S[i] == ' ' and tag == True:\n",
    "        word += S[i]\n",
    "    elif i == len(S) - 1:\n",
    "        word += S[i]\n",
    "        word = word[::-1]\n",
    "        result += word\n",
    "    else:\n",
    "        word += S[i]\n",
    "\n",
    "print(result)"
   ]
  },
  {
   "cell_type": "code",
   "execution_count": 1,
   "metadata": {},
   "outputs": [
    {
     "name": "stdout",
     "output_type": "stream",
     "text": [
      "ㅋ흏\n",
      "X\n",
      "AAB\n",
      "AABA\n",
      "AABB\n",
      "BCBABCC\n",
      "*\n",
      "['ㅋ흏', 'X', 'AAB', 'AABA', 'AABB', 'BCBABCC']\n"
     ]
    }
   ],
   "source": [
    "words = [input()]\n",
    "\n",
    "while words[-1] != '*':\n",
    "    words.append(input())\n",
    "\n",
    "words = words[:-1]\n",
    "print(words)"
   ]
  },
  {
   "cell_type": "code",
   "execution_count": null,
   "metadata": {},
   "outputs": [],
   "source": [
    "# import sys\n",
    "# input = sys.stdin.readline\n",
    "\n",
    "while True:\n",
    "    s = input().rstrip()\n",
    "    if s == '*':\n",
    "        break\n",
    "\n",
    "    for d in range(1, len(s)):\n",
    "        check = set()\n",
    "        for i in range(len(s)-d):\n",
    "            pair = s[i] + s[i+d]\n",
    "            if pair in check:\n",
    "                print(s, 'is NOT surprising.')\n",
    "                break\n",
    "            else:\n",
    "                check.add(pair)\n",
    "        else:\n",
    "            continue\n",
    "        break\n",
    "    else:\n",
    "        print(s, 'is surprising.')"
   ]
  },
  {
   "cell_type": "code",
   "execution_count": null,
   "metadata": {},
   "outputs": [],
   "source": [
    "import sys\n",
    "input = sys.stdin.readline\n",
    "\n",
    "while True:\n",
    "    s = input().rstrip()\n",
    "    if s == \"*\":\n",
    "        break\n",
    "    \n",
    "    for d in range(1,len(s)-1):\n",
    "        check = set()\n",
    "        for i in range(len(s)-d):\n",
    "            pairs = s[i]+s[i+d]\n",
    "            if pairs in check:\n",
    "                print(s,\"is NOT surprising.\")\n",
    "                break\n",
    "            else:\n",
    "                check.add(pairs)\n",
    "        else:\n",
    "            continue\n",
    "        break\n",
    "    else:\n",
    "        print(s,\"is surprising.\")"
   ]
  },
  {
   "cell_type": "code",
   "execution_count": 5,
   "metadata": {},
   "outputs": [
    {
     "ename": "ValueError",
     "evalue": "invalid literal for int() with base 10: ''",
     "output_type": "error",
     "traceback": [
      "\u001b[1;31m---------------------------------------------------------------------------\u001b[0m",
      "\u001b[1;31mValueError\u001b[0m                                Traceback (most recent call last)",
      "\u001b[1;32m<ipython-input-5-92a35456822c>\u001b[0m in \u001b[0;36m<module>\u001b[1;34m\u001b[0m\n\u001b[0;32m      5\u001b[0m \u001b[1;33m\u001b[0m\u001b[0m\n\u001b[0;32m      6\u001b[0m \u001b[0mpoem\u001b[0m \u001b[1;33m=\u001b[0m \u001b[0minput\u001b[0m\u001b[1;33m(\u001b[0m\u001b[1;33m)\u001b[0m\u001b[1;33m\u001b[0m\u001b[1;33m\u001b[0m\u001b[0m\n\u001b[1;32m----> 7\u001b[1;33m \u001b[0mspace\u001b[0m \u001b[1;33m=\u001b[0m \u001b[0mint\u001b[0m\u001b[1;33m(\u001b[0m\u001b[0minput\u001b[0m\u001b[1;33m(\u001b[0m\u001b[1;33m)\u001b[0m\u001b[1;33m)\u001b[0m\u001b[1;33m\u001b[0m\u001b[1;33m\u001b[0m\u001b[0m\n\u001b[0m\u001b[0;32m      8\u001b[0m \u001b[0malpha\u001b[0m \u001b[1;33m=\u001b[0m \u001b[1;33m[\u001b[0m\u001b[0mi\u001b[0m \u001b[1;32mfor\u001b[0m \u001b[0mi\u001b[0m \u001b[1;32min\u001b[0m \u001b[0mstring\u001b[0m\u001b[1;33m.\u001b[0m\u001b[0mascii_lowercase\u001b[0m\u001b[1;33m]\u001b[0m\u001b[1;33m\u001b[0m\u001b[1;33m\u001b[0m\u001b[0m\n\u001b[0;32m      9\u001b[0m \u001b[0mnum\u001b[0m \u001b[1;33m=\u001b[0m \u001b[0mlist\u001b[0m\u001b[1;33m(\u001b[0m\u001b[0mmap\u001b[0m\u001b[1;33m(\u001b[0m\u001b[0mint\u001b[0m\u001b[1;33m,\u001b[0m \u001b[0minput\u001b[0m\u001b[1;33m(\u001b[0m\u001b[1;33m)\u001b[0m\u001b[1;33m.\u001b[0m\u001b[0msplit\u001b[0m\u001b[1;33m(\u001b[0m\u001b[1;33m)\u001b[0m\u001b[1;33m)\u001b[0m\u001b[1;33m)\u001b[0m\u001b[1;33m\u001b[0m\u001b[1;33m\u001b[0m\u001b[0m\n",
      "\u001b[1;31mValueError\u001b[0m: invalid literal for int() with base 10: ''"
     ]
    }
   ],
   "source": [
    "import string\n",
    "import sys\n",
    "input = sys.stdin.readline\n",
    "from string import ascii_lowercase\n",
    "\n",
    "poem = input()\n",
    "space = int(input())\n",
    "alpha = [i for i in string.ascii_lowercase]\n",
    "num = list(map(int, input().split()))\n",
    "\n",
    "# 사용횟수 담는 리스트를 생성한다.\n",
    "eng_use = dict(zip(alpha, num))\n",
    "\n",
    "# 시의 제목 만들기\n",
    "title = []\n",
    "for word in poem.split():\n",
    "    title.append(word[0].lower())\n",
    "\n",
    "# 시의 내용과 제목에 대해서 가능한지 확인한다\n",
    "pre = poem[0]\n",
    "eng_use[pre] -= 1\n",
    "if eng_use[pre] < 0:\n",
    "    print(-1)\n",
    "    sys.exit(0)\n",
    "\n",
    "for s in poem[1:]:\n",
    "    if pre == s:\n",
    "        continue\n",
    "    if s == ' ':\n",
    "        space -= 1\n",
    "        if space < 0:\n",
    "            print(-1)\n",
    "            sys.exit(0)\n",
    "    else:\n",
    "        pre = s\n",
    "        eng_use[s.lower()] -= 1\n",
    "        if eng_use[s.lower()] < 0:\n",
    "            print(-1)\n",
    "            sys.exit(0)\n",
    "\n",
    "for s in title:\n",
    "    eng_use[s] -= 1\n",
    "    if eng_use[s] < 0:\n",
    "        print(-1)\n",
    "        sys.exit(0)\n",
    "\n",
    "print(title.upper())"
   ]
  },
  {
   "cell_type": "code",
   "execution_count": null,
   "metadata": {},
   "outputs": [],
   "source": []
  }
 ],
 "metadata": {
  "kernelspec": {
   "display_name": "Python 3",
   "language": "python",
   "name": "python3"
  },
  "language_info": {
   "codemirror_mode": {
    "name": "ipython",
    "version": 3
   },
   "file_extension": ".py",
   "mimetype": "text/x-python",
   "name": "python",
   "nbconvert_exporter": "python",
   "pygments_lexer": "ipython3",
   "version": "3.8.3"
  },
  "toc": {
   "base_numbering": 1,
   "nav_menu": {},
   "number_sections": true,
   "sideBar": true,
   "skip_h1_title": false,
   "title_cell": "Table of Contents",
   "title_sidebar": "Contents",
   "toc_cell": false,
   "toc_position": {},
   "toc_section_display": true,
   "toc_window_display": false
  }
 },
 "nbformat": 4,
 "nbformat_minor": 4
}
